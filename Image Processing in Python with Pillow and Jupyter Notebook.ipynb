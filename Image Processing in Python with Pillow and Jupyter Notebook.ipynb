{
 "cells": [
  {
   "cell_type": "markdown",
   "id": "752ccdc9-f13d-4423-8bbd-47f3acfc41ed",
   "metadata": {},
   "source": [
    "# Companion Jupyter Notebook for the Auth0 by Okta Blog Article [_Image Processing in Python with Pillow and Jupyter Notebook_](https://auth0.com/blog/image-processing-in-python-with-pillow/)"
   ]
  },
  {
   "cell_type": "markdown",
   "id": "64fedd3c-2481-4384-8212-6b50578b5f28",
   "metadata": {},
   "source": [
    "## Installation and Project Setup\n",
    "\n",
    "You can run any command that works in your system’s command line in Jupyter Notebook by adding the `!` character before it. The commands below install the Pillow module."
   ]
  },
  {
   "cell_type": "code",
   "execution_count": null,
   "id": "66451c19-9fef-4084-8871-d1f42705b73a",
   "metadata": {},
   "outputs": [],
   "source": [
    "# To install Pillow on Windows, uncomment and run the following line:\n",
    "# ! python -m pip install --upgrade Pillow\n",
    "\n",
    "# To install Pillow on macOS or Linux, uncomment and run the following line:\n",
    "# ! python3 -m pip install --upgrade Pillow"
   ]
  },
  {
   "cell_type": "markdown",
   "id": "3c45426c-dad8-4e15-99ce-9b8dc02632ca",
   "metadata": {},
   "source": [
    "## The `Image` Object\n",
    "\n",
    "### Loading and displaying an image"
   ]
  },
  {
   "cell_type": "code",
   "execution_count": null,
   "id": "61cb3475",
   "metadata": {},
   "outputs": [],
   "source": [
    "# Pillow is a fork of PIL, so we’re importing from PIL\n",
    "from PIL import Image\n",
    "\n",
    "# Load an image from a file\n",
    "puffin_image = Image.open('demo_image.jpg')\n",
    "\n",
    "# To display a Pillow image object in Jupyter Notebook,\n",
    "# just run a cell whose result is that image. \n",
    "puffin_image"
   ]
  },
  {
   "cell_type": "code",
   "execution_count": null,
   "id": "1d72fef4",
   "metadata": {},
   "outputs": [],
   "source": [
    "# If you’re using the Python REPL instead of Jupyter Notebook,\n",
    "# use Image.show() to create a temporary file for the image\n",
    "# and display it with the default system image viewer.\n",
    "puffin_image.show()"
   ]
  },
  {
   "cell_type": "markdown",
   "id": "67df948b-2f2d-4831-a826-ef5e7b5b9496",
   "metadata": {},
   "source": [
    "### Getting information about an image"
   ]
  },
  {
   "cell_type": "code",
   "execution_count": null,
   "id": "45ddd6b8",
   "metadata": {},
   "outputs": [],
   "source": [
    "# The file format of the source file.\n",
    "print(f\"Image's file format: {puffin_image.format}\")\n",
    "\n",
    "# The pixel format used by the image. Typical values are \"1\", \"L\", \"RGB\", or \"CMYK.\"\n",
    "print(f\"Image’s pixel format: {puffin_image.mode}\")\n",
    "\n",
    "# Image size, in pixels. The size is given as a 2-tuple (width, height).\n",
    "print(f\"Image size (width, height): {puffin_image.size}\")\n",
    "\n",
    "# Colour palette table, if any.\n",
    "print(f\"Image palette: {puffin_image.palette}\")\n",
    "\n",
    "# Output:\n",
    "# Image's file format: JPEG\n",
    "# Image’s pixel format: RGB\n",
    "# Image size (width, height): (1920, 1280)\n",
    "# Image palette: None"
   ]
  },
  {
   "cell_type": "markdown",
   "id": "92327908-7f41-47e8-a03b-ed56737b518c",
   "metadata": {},
   "source": [
    "## Resizing Images\n",
    "\n",
    "### The `resize()` method"
   ]
  },
  {
   "cell_type": "code",
   "execution_count": null,
   "id": "7f5703ea",
   "metadata": {},
   "outputs": [],
   "source": [
    "# Image.resize() makes a resized copy of the original image.\n",
    "puffin_image_resized = puffin_image.resize((300, 300))\n",
    "puffin_image_resized"
   ]
  },
  {
   "cell_type": "markdown",
   "id": "25521c77-28cd-4323-9360-06f9ea9af05b",
   "metadata": {},
   "source": [
    "### The `thumbnail()` method"
   ]
  },
  {
   "cell_type": "code",
   "execution_count": null,
   "id": "139df515",
   "metadata": {},
   "outputs": [],
   "source": [
    "# Unlike Image.resize(), which makes a copy of the original image,\n",
    "# Image.thumbnail() modifies the original image.\n",
    "# The dimensions you provide specify maximum x- and y-size\n",
    "# and the method preserves the image’s aspect ratio.\n",
    "# Let’s make a copy of the original and convert it\n",
    "# into a thumbnail.\n",
    "puffin_image_thumbnail = puffin_image.copy()\n",
    "puffin_image_thumbnail.thumbnail((300, 300))\n",
    "print(f\"The thumbnail image’s size is: {puffin_image_thumbnail.size}.\")\n",
    "puffin_image_thumbnail"
   ]
  },
  {
   "cell_type": "markdown",
   "id": "3e1480c9-c3d3-4402-ba54-e12adfc2e1f3",
   "metadata": {},
   "source": [
    "### “Pixelating” an image with resizing"
   ]
  },
  {
   "cell_type": "code",
   "execution_count": null,
   "id": "b7909217",
   "metadata": {},
   "outputs": [],
   "source": [
    "# Pixelate the image\n",
    "\n",
    "# Shrink the image while preserving the aspect ratio.\n",
    "puffin_image_150px = puffin_image.copy()\n",
    "puffin_image_150px.thumbnail((125, 125))\n",
    "\n",
    "# Scale the image back up to its original size,\n",
    "# but using “nearest neighbor” resampling.\n",
    "puffin_image_pixelated = puffin_image_150px.resize((1920, 1200), resample = Image.Resampling.NEAREST)\n",
    "puffin_image_pixelated"
   ]
  },
  {
   "cell_type": "markdown",
   "id": "870514f0-40d7-4846-848a-9eae8f271648",
   "metadata": {},
   "source": [
    "## Flipping Images"
   ]
  },
  {
   "cell_type": "code",
   "execution_count": null,
   "id": "e85b752b",
   "metadata": {},
   "outputs": [],
   "source": [
    "image_lr_flip = puffin_image.transpose(Image.FLIP_LEFT_RIGHT)\n",
    "image_lr_flip"
   ]
  },
  {
   "cell_type": "code",
   "execution_count": null,
   "id": "ac63f163",
   "metadata": {},
   "outputs": [],
   "source": [
    "image_tb_flip = puffin_image.transpose(Image.FLIP_TOP_BOTTOM)\n",
    "image_tb_flip"
   ]
  },
  {
   "cell_type": "code",
   "execution_count": null,
   "id": "27a0c4a9",
   "metadata": {},
   "outputs": [],
   "source": [
    "image_rot_180 = puffin_image.transpose(Image.ROTATE_180)\n",
    "image_rot_180"
   ]
  },
  {
   "cell_type": "code",
   "execution_count": null,
   "id": "0ad25689",
   "metadata": {},
   "outputs": [],
   "source": [
    "# Transposing an image mirrors it along the line running from\n",
    "# the top left to the bottom right.\n",
    "image_transpose = puffin_image.transpose(Image.TRANSPOSE)\n",
    "image_transpose"
   ]
  },
  {
   "cell_type": "code",
   "execution_count": null,
   "id": "56c4e81c",
   "metadata": {},
   "outputs": [],
   "source": [
    "# Transversing an image mirrors it along the line running from\n",
    "# the bottom left to the top right.\n",
    "image_transverse = puffin_image.transpose(Image.TRANSVERSE)\n",
    "image_transverse"
   ]
  },
  {
   "cell_type": "markdown",
   "id": "a845ed84-6a4a-4d50-96b0-e9eb537b2ba7",
   "metadata": {},
   "source": [
    "## Rotating Images"
   ]
  },
  {
   "cell_type": "code",
   "execution_count": null,
   "id": "211b9ef2",
   "metadata": {},
   "outputs": [],
   "source": [
    "# Image.rotate() uses degrees, and positive rotation\n",
    "# is *counterclockwise*.\n",
    "puffin_image_rot_180 = puffin_image.rotate(180)\n",
    "puffin_image_rot_180"
   ]
  },
  {
   "cell_type": "code",
   "execution_count": null,
   "id": "a7f521e2",
   "metadata": {},
   "outputs": [],
   "source": [
    "# Rotating an image preserves its dimensions by default,\n",
    "# so the image may be clipped.\n",
    "puffin_image_rot_90 = puffin_image.rotate(90)\n",
    "puffin_image_rot_90"
   ]
  },
  {
   "cell_type": "code",
   "execution_count": null,
   "id": "25cbb66c",
   "metadata": {},
   "outputs": [],
   "source": [
    "# Rotate the image by 18 degrees.\n",
    "puffin_image_rot_18 = puffin_image.rotate(18)\n",
    "puffin_image_rot_18"
   ]
  },
  {
   "cell_type": "code",
   "execution_count": null,
   "id": "b86471e2",
   "metadata": {},
   "outputs": [],
   "source": [
    "# Setting Image.rotate()’s optional “expand” parameter to True\n",
    "# avoids clipping by scaling the resulting image to accomodate\n",
    "# the rotation.\n",
    "puffin_image_rot_18_expand = puffin_image.rotate(18, expand=True)\n",
    "print(f\"Original image dimensions: {puffin_image.size}\")\n",
    "print(f\"Rotated expanded image dimensions: {puffin_image_rot_18_expand.size}\")\n",
    "puffin_image_rot_18_expand"
   ]
  },
  {
   "cell_type": "markdown",
   "id": "f93dff1d-a6f0-4cbf-9711-f9dbb8d21b22",
   "metadata": {},
   "source": [
    "## Cropping Images"
   ]
  },
  {
   "cell_type": "code",
   "execution_count": null,
   "id": "33194e01",
   "metadata": {},
   "outputs": [],
   "source": [
    "# Image.crop() returns a new image made from \n",
    "# the rectangular area of the original specified by\n",
    "# a 4-tuple (x_left, y_top, x_right, y_bottom).\n",
    "box = (200, 300, 700, 600)\n",
    "puffin_image_cropped = puffin_image.crop(box)\n",
    "print(f\"The cropped image’s size is: {puffin_image_cropped.size}.\")\n",
    "puffin_image_cropped"
   ]
  },
  {
   "cell_type": "markdown",
   "id": "6e6159a0-9e49-4e10-a49a-17e1f4265eea",
   "metadata": {},
   "source": [
    "## Pasting an Image onto Another Image"
   ]
  },
  {
   "cell_type": "code",
   "execution_count": null,
   "id": "7a2b8b60",
   "metadata": {},
   "outputs": [],
   "source": [
    "python_logo_image = Image.open('logo.png')\n",
    "python_logo_image"
   ]
  },
  {
   "cell_type": "markdown",
   "id": "0e7bb3bf-3442-47e1-b63b-bf897faeb4f4",
   "metadata": {},
   "source": [
    "### Pasting without an opacity mask"
   ]
  },
  {
   "cell_type": "code",
   "execution_count": null,
   "id": "e94333f3",
   "metadata": {
    "scrolled": true
   },
   "outputs": [],
   "source": [
    "# Pasting without an opacity mask\n",
    "\n",
    "python_logo_image = Image.open('logo.png')\n",
    "\n",
    "# paste() modifies the image in place,\n",
    "#so let’s work with a copy.\n",
    "puffin_image_with_logo = puffin_image.copy()\n",
    "\n",
    "# We want the logo at the puffin image’s lower right corner.\n",
    "logo_position = (\n",
    "    (puffin_image_with_logo.width - python_logo_image.width), \n",
    "    (puffin_image_with_logo.height - python_logo_image.height)\n",
    ")\n",
    "\n",
    "# Image.paste() pastes another image onto the current image.\n",
    "puffin_image_with_logo.paste(python_logo_image, logo_position)\n",
    "puffin_image_with_logo"
   ]
  },
  {
   "cell_type": "markdown",
   "id": "5f823274-d4c1-4085-8b6d-884c7d690e6f",
   "metadata": {},
   "source": [
    "### Pasting with an opacity mask"
   ]
  },
  {
   "cell_type": "code",
   "execution_count": null,
   "id": "6500ffd9",
   "metadata": {},
   "outputs": [],
   "source": [
    "# Pasting with an opacity mask\n",
    "puffin_image_with_logo = puffin_image.copy()\n",
    "\n",
    "# Pasting the logo while using it as its own opacity mask\n",
    "# ensures that transparent pixels are rendered properly.\n",
    "puffin_image_with_logo.paste(python_logo_image, logo_position, python_logo_image)\n",
    "puffin_image_with_logo"
   ]
  },
  {
   "cell_type": "markdown",
   "id": "92f72f49-b124-45db-ade8-a79ba49f2a31",
   "metadata": {},
   "source": [
    "## Drawing on Images"
   ]
  },
  {
   "cell_type": "code",
   "execution_count": null,
   "id": "0b467e4e",
   "metadata": {},
   "outputs": [],
   "source": [
    "# The ImageDraw module provides basic 2-D graphics and text drawing.\n",
    "from PIL import ImageDraw\n",
    "\n",
    "puffin_image_with_title = puffin_image_with_logo.copy()\n",
    "\n",
    "# ImageDraw.Draw() takes an image as an argument and returns\n",
    "# an object we can use as a drawing surface.\n",
    "title_canvas = ImageDraw.Draw(puffin_image_with_title)\n",
    "title_canvas.rectangle((50, 1050, 830, 1210), outline='white', fill='black')\n",
    "title_canvas.text((70, 1050), 'Hello, puffins!', fill='white', font_size=120)\n",
    "puffin_image_with_title"
   ]
  },
  {
   "cell_type": "markdown",
   "id": "c11d6e55-13cb-4305-8064-753dc143b1a8",
   "metadata": {},
   "source": [
    "## Transforming Image Colors\n",
    "\n",
    "### Converting an image from color to grayscale"
   ]
  },
  {
   "cell_type": "code",
   "execution_count": null,
   "id": "1a1e6afe",
   "metadata": {},
   "outputs": [],
   "source": [
    "# Convert image to grayscale\n",
    "grayscale_image = puffin_image.convert(\"L\")\n",
    "print(f\"Original image mode: {puffin_image.mode}\") # Output: RGB\n",
    "print(f\"Grayscale image mode: {grayscale_image.mode}\") # Output: L\n",
    "grayscale_image\n",
    "\n",
    "# Output:\n",
    "# Original image mode: RGB\n",
    "# Grayscale image mode: L"
   ]
  },
  {
   "cell_type": "markdown",
   "id": "22ce18b6-098f-4cdf-830f-3dec8d6bca73",
   "metadata": {},
   "source": [
    "### Reducing the number of colors in an image"
   ]
  },
  {
   "cell_type": "code",
   "execution_count": null,
   "id": "9e20561c",
   "metadata": {
    "scrolled": true
   },
   "outputs": [],
   "source": [
    "# Image.quantize() creates a copy of the image in palette mode\n",
    "# and reduces the colors to the given number.\n",
    "\n",
    "# Reduce the image to a 16-color palette:\n",
    "puffin_image_quantize = puffin_image.quantize(16)\n",
    "print(f\"Image’s pixel format: {puffin_image_quantize.mode}\")\n",
    "puffin_image_quantize"
   ]
  },
  {
   "cell_type": "markdown",
   "id": "912d3f32-c0f9-4fd9-95fb-670de4319960",
   "metadata": {},
   "source": [
    "### Splitting and Merging Bands"
   ]
  },
  {
   "cell_type": "code",
   "execution_count": null,
   "id": "ee51edee",
   "metadata": {},
   "outputs": [],
   "source": [
    "(red_channel, \n",
    " green_channel, \n",
    " blue_channel) = puffin_image.split()\n",
    "\n",
    "print(f\"Image’s pixel format: {puffin_image.mode}\") # Output: RGB\n",
    "print(f\"Red channel’s pixel format: {red_channel.mode}\") # Output: L\n",
    "print(f\"Green channel’s pixel format: {green_channel.mode}\") # Output: L\n",
    "print(f\"Blue channel’s pixel format: {blue_channel.mode}\") # Output: L\n",
    "\n",
    "# Output:\n",
    "# Image’s pixel format: RGB\n",
    "# Red channel’s pixel format: L\n",
    "# Green channel’s pixel format: L\n",
    "# Blue channel’s pixel format: L\n",
    "\n",
    "grb_image = Image.merge(\"RGB\", (blue_channel, red_channel, green_channel))\n",
    "grb_image"
   ]
  },
  {
   "cell_type": "markdown",
   "id": "e1c0c649-3433-4ed7-806f-b97de8d8211e",
   "metadata": {},
   "source": [
    "## Enhancing Images\n",
    "\n",
    "### Enhancing contrast"
   ]
  },
  {
   "cell_type": "code",
   "execution_count": null,
   "id": "cd1088ee",
   "metadata": {},
   "outputs": [],
   "source": [
    "from PIL import ImageEnhance\n",
    "\n",
    "puffin_image_enhanced_contrast = ImageEnhance.Contrast(puffin_image)\n",
    "puffin_image_enhanced_contrast.enhance(3.0)"
   ]
  },
  {
   "cell_type": "markdown",
   "id": "ad14e95a-e808-4ccd-b39a-a7c5f5d87a7f",
   "metadata": {},
   "source": [
    "### Enhancing color"
   ]
  },
  {
   "cell_type": "code",
   "execution_count": null,
   "id": "6486f6f8",
   "metadata": {},
   "outputs": [],
   "source": [
    "puffin_image_enhanced_color = ImageEnhance.Color(puffin_image)\n",
    "puffin_image_enhanced_color.enhance(3.0)"
   ]
  },
  {
   "cell_type": "markdown",
   "id": "ba403c8a-4863-4b5b-a863-6b1a746cbe88",
   "metadata": {},
   "source": [
    "### Enhancing brightness"
   ]
  },
  {
   "cell_type": "code",
   "execution_count": null,
   "id": "9e65fc81",
   "metadata": {},
   "outputs": [],
   "source": [
    "puffin_image_enhanced_brightness = ImageEnhance.Brightness(puffin_image)\n",
    "puffin_image_enhanced_brightness.enhance(3.0)"
   ]
  },
  {
   "cell_type": "markdown",
   "id": "db95c3cf-2fe4-4c65-9646-7d6053470616",
   "metadata": {},
   "source": [
    "### Enhancing sharpness"
   ]
  },
  {
   "cell_type": "code",
   "execution_count": null,
   "id": "b84719d6",
   "metadata": {},
   "outputs": [],
   "source": [
    "puffin_image_enhanced_sharpness = ImageEnhance.Sharpness(puffin_image)\n",
    "puffin_image_enhanced_sharpness.enhance(3.0)"
   ]
  },
  {
   "cell_type": "markdown",
   "id": "744df1b5-a05a-48a3-83f0-0f38e16f4976",
   "metadata": {},
   "source": [
    "## Saving Your Image Work"
   ]
  },
  {
   "cell_type": "code",
   "execution_count": null,
   "id": "9a7d6f7b-6b6c-4264-9926-2403ed0e5e78",
   "metadata": {},
   "outputs": [],
   "source": [
    "# Save the sharpened puffin image as a .png file\n",
    "puffin_image_enhanced_sharpness.save(\"puffins_sharp.png\")\n",
    "\n",
    "# Save the sharpened puffin image as a .jpg file\n",
    "puffin_image_enhanced_sharpness.save(\"puffins_sharp.jpg\")"
   ]
  }
 ],
 "metadata": {
  "kernelspec": {
   "display_name": "Python 3 (ipykernel)",
   "language": "python",
   "name": "python3"
  },
  "language_info": {
   "codemirror_mode": {
    "name": "ipython",
    "version": 3
   },
   "file_extension": ".py",
   "mimetype": "text/x-python",
   "name": "python",
   "nbconvert_exporter": "python",
   "pygments_lexer": "ipython3",
   "version": "3.12.1"
  }
 },
 "nbformat": 4,
 "nbformat_minor": 5
}
